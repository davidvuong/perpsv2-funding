{
 "cells": [
  {
   "cell_type": "markdown",
   "metadata": {},
   "source": [
    "# Synthetix Perps V2 Funding\n",
    "\n",
    "This project provides a Python based sample implementation of the new funding model described in [SIP-279](https://sips.synthetix.io/sips/sip-279/) for Perps V2. The new funding model aims to optimise for a perfectly balanced skew. To recap the basics,\n",
    "\n",
    "1. A perps market is a Synth/sUSD pair e.g. sETH/sUSD\n",
    "1. A market skew is present when longs and shorts don't balance out e.g. 1M short, 2M long has a 1M long skew\n",
    "1. When a skew is present, the skewed direction pays the opposite defined by a 'funding rate' e.g. 1M longs pay shorts. This is meant to incentivise arbers to short on Synthetix and long on another exchange, reducing skew back to equilibrium\n",
    "\n",
    "The current mainnet implementation of [SIP-80](https://sips.synthetix.io/sips/sip-80/) poses two problems:\n",
    "\n",
    "1. There is no financial incentive to perform the arb as funding rates are calculated instantaneously. In the example above, a short to bring skew back to 0 will also result in a 0 funding rate. The arber makes no money\n",
    "1. Funding rate volatility. A funding rate that fluctuates too frequently is not attractive for traders\n",
    "\n",
    "The new funding model in SIP-279 solves this by introducing a floating funding rate of sorts. The basic idea is as follows:\n",
    "\n",
    "1. As long as the market skew is not at equilibrium, increase the funding in the same direction. As some point, there will be enough market participants willing to bring it back. If there's free money on the table, and you had alpha to take advantage, why not?\n",
    "1. If/when a market skew is at equilibrium stop changing the funding rate. This is the floating funding rate. It doesn't instantaneously drop to 0, keeping the arbers on the exchange to maintain skew. We can denote this as the fair market funding rate.\n",
    "1. If the skew drifts past equilibrium into the other direction, the funding rate hence increases in the opposite direction."
   ]
  },
  {
   "cell_type": "markdown",
   "metadata": {},
   "source": [
    "# Funding Velocity\n",
    "\n",
    "This defines how quickly funding rate increases as long as the skew is not at equilibrium. We define 2 static but configurable variables\n",
    "\n",
    "- `fundingVelocityScale` - A value in USD to fractionalise the skew e.g. 1M / 10M = 0.1\n",
    "- `maxFundingVelocity` - The maximum percentage in funding per day e.g. 2.5%\n",
    "\n",
    "Note that funding rate increases relative to the skew, fractionalised by `fundingVelocityScale`."
   ]
  },
  {
   "cell_type": "code",
   "execution_count": 2,
   "metadata": {},
   "outputs": [
    {
     "name": "stdout",
     "output_type": "stream",
     "text": [
      "-0.00375\n",
      "0.037500000000000006\n",
      "0.025\n"
     ]
    }
   ],
   "source": [
    "FUNDING_VELOCITY_SCALE = 10_000_000 # 10M USD\n",
    "MAX_FUNDING_VELOCITY = 0.025 # 2.5%\n",
    "ASSET_PRICE = 1500 # 1500 USD\n",
    "\n",
    "\n",
    "def calc_funding_rate_velocity(skew: float, skew_scale_usd: float, max_funding_pct: float, price: float) -> float:\n",
    "    \"\"\"Calculates the daily funding rate given current market conditions.\n",
    "\n",
    "    :param float skew: Market skew denoted by size\n",
    "    :param float skew_scale_usd: Maximum funding velocity scale denoted in USD\n",
    "    :param float max_funding_pct: Maximum percentage increase in funding per day\n",
    "    :param float price: Price of the underlying market Synth e.g. sETH\n",
    "\n",
    "    \"\"\"\n",
    "    return (skew * price) / skew_scale_usd * max_funding_pct\n",
    "\n",
    "# Examples\n",
    "print(calc_funding_rate_velocity(-1000, FUNDING_VELOCITY_SCALE, MAX_FUNDING_VELOCITY, ASSET_PRICE))\n",
    "print(calc_funding_rate_velocity(10_000, FUNDING_VELOCITY_SCALE, MAX_FUNDING_VELOCITY, ASSET_PRICE))\n",
    "print(calc_funding_rate_velocity(FUNDING_VELOCITY_SCALE / ASSET_PRICE, FUNDING_VELOCITY_SCALE, MAX_FUNDING_VELOCITY, ASSET_PRICE)) # max rate velocity"
   ]
  },
  {
   "cell_type": "markdown",
   "metadata": {},
   "source": [
    "# Example Simulation\n",
    "\n",
    "We can simulate this behaviour to see how the funding rate can float. Let's start by defining a simple subset of a `Position` dataclass to represent positions on-chain for the purposes of this simulation. We also define a `Market` dataclass to isolate "
   ]
  },
  {
   "cell_type": "code",
   "execution_count": 26,
   "metadata": {},
   "outputs": [],
   "source": [
    "from dataclasses import dataclass\n",
    "from typing import List, Type, Optional, Union\n",
    "\n",
    "\n",
    "SECONDS_IN_DAY: int = 86400\n",
    "\n",
    "@dataclass\n",
    "class Position:\n",
    "    size: float\n",
    "\n",
    "\n",
    "@dataclass\n",
    "class Market:\n",
    "    positions: List[Type[Position]]\n",
    "    price: float = 0\n",
    "    last_modified_at: int = 0\n",
    "\n",
    "    # Cached values on every market modification to avoid computing against `positions` every time.\n",
    "    size: float = 0\n",
    "    skew: float = 0\n",
    "    funding_rate: float = 0\n",
    "    funding_accrued: float = 0\n",
    "\n",
    "    # Static but configurable variables\n",
    "    skew_scale_usd: float = 0\n",
    "    max_funding_pct: float = 0\n",
    "\n",
    "    def modify_position(self, t: int, size_usd: Optional[float]) -> None:\n",
    "        # Calculate how much time has passed from the last interaction to now.\n",
    "        #\n",
    "        # 1. Funding accrued between t and t + 1 using the old funding rate\n",
    "        # 2. Update funding after adding the position.\n",
    "\n",
    "        # How much time has passed?\n",
    "        t_delta = t - self.last_modified_at \n",
    "\n",
    "        # Update accrued funding.\n",
    "        self.funding_accrued += (t_delta * (self.funding_rate / SECONDS_IN_DAY)) * self.size * self.price\n",
    "\n",
    "        # Update funding rate.\n",
    "        self.funding_rate += t_delta * (self.funding_rate_velocity() / SECONDS_IN_DAY)\n",
    "        self.last_modified_at = t\n",
    "\n",
    "        # No position was added/removed. We're just touching to update cache.\n",
    "        if size_usd:\n",
    "            size = size_usd / self.price\n",
    "            position = Position(size)\n",
    "            self.positions.append(position)\n",
    "            self.size += abs(size)\n",
    "            self.skew += size\n",
    "\n",
    "    def funding_rate_velocity(self) -> float:\n",
    "        return (self.skew * self.price) / self.skew_scale_usd * self.max_funding_pct\n"
   ]
  },
  {
   "cell_type": "code",
   "execution_count": null,
   "metadata": {},
   "outputs": [],
   "source": [
    "import sys\n",
    "!{sys.executable} -m pip install tabletext matplotlib"
   ]
  },
  {
   "cell_type": "code",
   "execution_count": 29,
   "metadata": {},
   "outputs": [
    {
     "name": "stdout",
     "output_type": "stream",
     "text": [
      "┌──────────────┬─────────┬─────────┬────────────────────────┬───────────────────────┬────────────────────────────────┐\n",
      "│ ts (seconds) │ size    │ skew    │ funding_rate           │ velocity              │ funding_accrued (total in usd) │\n",
      "├──────────────┼─────────┼─────────┼────────────────────────┼───────────────────────┼────────────────────────────────┤\n",
      "│            0 │       0 │       0 │                      0 │                   0.0 │                              0 │\n",
      "├──────────────┼─────────┼─────────┼────────────────────────┼───────────────────────┼────────────────────────────────┤\n",
      "│         1000 │  5000.0 │  1000.0 │                    0.0 │ 0.0025000000000000005 │                            0.0 │\n",
      "├──────────────┼─────────┼─────────┼────────────────────────┼───────────────────────┼────────────────────────────────┤\n",
      "│        30000 │  7000.0 │  3000.0 │  0.0008391203703703706 │                0.0075 │                            0.0 │\n",
      "├──────────────┼─────────┼─────────┼────────────────────────┼───────────────────────┼────────────────────────────────┤\n",
      "│        50000 │ 10000.0 │     0.0 │  0.0025752314814814817 │                   0.0 │             1359.6857853223598 │\n",
      "├──────────────┼─────────┼─────────┼────────────────────────┼───────────────────────┼────────────────────────────────┤\n",
      "│       100000 │ 10000.0 │     0.0 │  0.0025752314814814817 │                   0.0 │             16262.645747599454 │\n",
      "├──────────────┼─────────┼─────────┼────────────────────────┼───────────────────────┼────────────────────────────────┤\n",
      "│       150000 │ 12000.0 │ -2000.0 │  0.0025752314814814817 │ -0.005000000000000001 │              31165.60570987655 │\n",
      "├──────────────┼─────────┼─────────┼────────────────────────┼───────────────────────┼────────────────────────────────┤\n",
      "│       200000 │ 14000.0 │     0.0 │ -0.0003182870370370375 │                   0.0 │              49049.15766460906 │\n",
      "├──────────────┼─────────┼─────────┼────────────────────────┼───────────────────────┼────────────────────────────────┤\n",
      "│       300000 │ 14000.0 │     0.0 │ -0.0003182870370370375 │                   0.0 │              43891.72882373114 │\n",
      "├──────────────┼─────────┼─────────┼────────────────────────┼───────────────────────┼────────────────────────────────┤\n",
      "│       400000 │ 14000.0 │     0.0 │ -0.0003182870370370375 │                   0.0 │              38734.29998285321 │\n",
      "└──────────────┴─────────┴─────────┴────────────────────────┴───────────────────────┴────────────────────────────────┘\n"
     ]
    }
   ],
   "source": [
    "from pprint import pprint\n",
    "import tabletext\n",
    "\n",
    "\n",
    "def ppint_sim_events(events: List[List[Union[int, float, str]]]) -> None:\n",
    "    columns = ['ts (seconds)', 'size', 'skew', 'funding_rate', 'velocity', 'funding_accrued (total in usd)']\n",
    "    print(tabletext.to_text([columns] + events))\n",
    "\n",
    "\n",
    "def sim(market, intervals, events):\n",
    "    for interval in intervals:\n",
    "        market.modify_position(interval['t'], interval['size_usd'])\n",
    "        events.append([\n",
    "            market.last_modified_at,\n",
    "            market.size,\n",
    "            market.skew,\n",
    "            market.funding_rate,\n",
    "            market.funding_rate_velocity(),\n",
    "            market.funding_accrued,\n",
    "        ])\n",
    "    return events\n",
    "\n",
    "\n",
    "def simulation_01():\n",
    "    \"\"\"Concrete example with pre-defined timeseries (with static price).\"\"\"\n",
    "    price = 1000\n",
    "    intervals = [\n",
    "        {'t': 1000, 'size_usd': 1_000_000},\n",
    "        {'t': 30_000, 'size_usd': 2_000_000},\n",
    "        {'t': 50_000, 'size_usd': -3_000_000},\n",
    "        {'t': 100_000, 'size_usd': None},\n",
    "        {'t': 150_000, 'size_usd': -2_000_000},\n",
    "        {'t': 200_000, 'size_usd': 2_000_000},\n",
    "        {'t': 300_000, 'size_usd': None},\n",
    "        {'t': 400_000, 'size_usd': None},\n",
    "    ]\n",
    "\n",
    "    # Initial market conditions. We start with a perfectly balanced skew with 2M in both directions.\n",
    "    market = Market(\n",
    "        positions=[],\n",
    "        last_modified_at=0,\n",
    "        price=price,\n",
    "        skew_scale_usd=FUNDING_VELOCITY_SCALE,\n",
    "        max_funding_pct=MAX_FUNDING_VELOCITY,\n",
    "    )\n",
    "\n",
    "    market.modify_position(0, -2_000_000)\n",
    "    market.modify_position(0, 2_000_000)\n",
    "\n",
    "    events = [\n",
    "        [0, 0, 0, 0, market.funding_rate_velocity(), 0]\n",
    "    ]\n",
    "    return sim(market, intervals, events)\n",
    "\n",
    "\n",
    "sim_01_res = simulation_01()\n",
    "ppint_sim_events(sim_01_res)"
   ]
  },
  {
   "cell_type": "markdown",
   "metadata": {},
   "source": [
    "## Sim 01 - Observations\n",
    "\n",
    "- Funding rate is calculated based on market conditions between `t - 1` and `t`. That is, we don't see the effects of the new position upon modifying the market. We only see it in subsequent touches.\n",
    "- The funding rate can float at a 'fair market funding rate' when the skew is at 0\n",
    "- `funding_accrued (total in usd)` is the overall amount of funding accrued. We see that after the funding rate shifts, it begins to reduce.\n",
    "  - We can look at this to get a gut feel gauge on whether the market is usually long or short. However, since accrual is largely dependent on time, this isn't a very accurate representation.\n",
    "\n",
    "## Sim 01a - Funding Rate\n",
    "\n",
    "At 100k -> 200k, it's hard to see how the funding rate gradually changes. Let's take a deeper look."
   ]
  },
  {
   "cell_type": "code",
   "execution_count": 38,
   "metadata": {},
   "outputs": [
    {
     "name": "stdout",
     "output_type": "stream",
     "text": [
      "┌──────────────┬─────────┬─────────┬────────────────────────┬───────────────────────┬────────────────────────────────┐\n",
      "│ ts (seconds) │ size    │ skew    │ funding_rate           │ velocity              │ funding_accrued (total in usd) │\n",
      "├──────────────┼─────────┼─────────┼────────────────────────┼───────────────────────┼────────────────────────────────┤\n",
      "│            0 │       0 │       0 │                      0 │                   0.0 │                              0 │\n",
      "├──────────────┼─────────┼─────────┼────────────────────────┼───────────────────────┼────────────────────────────────┤\n",
      "│         1000 │  5000.0 │  1000.0 │                    0.0 │ 0.0025000000000000005 │                            0.0 │\n",
      "├──────────────┼─────────┼─────────┼────────────────────────┼───────────────────────┼────────────────────────────────┤\n",
      "│        30000 │  7000.0 │  3000.0 │  0.0008391203703703706 │                0.0075 │                            0.0 │\n",
      "├──────────────┼─────────┼─────────┼────────────────────────┼───────────────────────┼────────────────────────────────┤\n",
      "│        50000 │ 10000.0 │     0.0 │  0.0025752314814814817 │                   0.0 │             1359.6857853223598 │\n",
      "├──────────────┼─────────┼─────────┼────────────────────────┼───────────────────────┼────────────────────────────────┤\n",
      "│       100000 │ 10000.0 │     0.0 │  0.0025752314814814817 │                   0.0 │             16262.645747599454 │\n",
      "├──────────────┼─────────┼─────────┼────────────────────────┼───────────────────────┼────────────────────────────────┤\n",
      "│       150000 │ 12000.0 │ -2000.0 │  0.0025752314814814817 │ -0.005000000000000001 │              31165.60570987655 │\n",
      "├──────────────┼─────────┼─────────┼────────────────────────┼───────────────────────┼────────────────────────────────┤\n",
      "│       160000 │ 12000.0 │ -2000.0 │  0.0019965277777777776 │ -0.005000000000000001 │              34742.31610082305 │\n",
      "├──────────────┼─────────┼─────────┼────────────────────────┼───────────────────────┼────────────────────────────────┤\n",
      "│       165000 │ 12000.0 │ -2000.0 │  0.0017071759259259258 │ -0.005000000000000001 │              36128.79372427984 │\n",
      "├──────────────┼─────────┼─────────┼────────────────────────┼───────────────────────┼────────────────────────────────┤\n",
      "│       170000 │ 12000.0 │ -2000.0 │   0.001417824074074074 │ -0.005000000000000001 │             37314.332561728406 │\n",
      "├──────────────┼─────────┼─────────┼────────────────────────┼───────────────────────┼────────────────────────────────┤\n",
      "│       175000 │ 12000.0 │ -2000.0 │  0.0011284722222222221 │ -0.005000000000000001 │             38298.932613168734 │\n",
      "├──────────────┼─────────┼─────────┼────────────────────────┼───────────────────────┼────────────────────────────────┤\n",
      "│       180000 │ 12000.0 │ -2000.0 │  0.0008391203703703702 │ -0.005000000000000001 │             39082.593878600834 │\n",
      "├──────────────┼─────────┼─────────┼────────────────────────┼───────────────────────┼────────────────────────────────┤\n",
      "│       185000 │ 12000.0 │ -2000.0 │  0.0005497685185185182 │ -0.005000000000000001 │               39665.3163580247 │\n",
      "├──────────────┼─────────┼─────────┼────────────────────────┼───────────────────────┼────────────────────────────────┤\n",
      "│       200000 │ 14000.0 │     0.0 │ -0.0003182870370370375 │                   0.0 │              40810.66743827161 │\n",
      "├──────────────┼─────────┼─────────┼────────────────────────┼───────────────────────┼────────────────────────────────┤\n",
      "│       210000 │ 14000.0 │     0.0 │ -0.0003182870370370375 │                   0.0 │              40294.92455418382 │\n",
      "└──────────────┴─────────┴─────────┴────────────────────────┴───────────────────────┴────────────────────────────────┘\n"
     ]
    }
   ],
   "source": [
    "def simulation_01a(step=5000):\n",
    "    price = 1000\n",
    "    intervals = [\n",
    "        {'t': 1000, 'size_usd': 1_000_000},\n",
    "        {'t': 30_000, 'size_usd': 2_000_000},\n",
    "        {'t': 50_000, 'size_usd': -3_000_000},\n",
    "        {'t': 100_000, 'size_usd': None},\n",
    "        {'t': 150_000, 'size_usd': -2_000_000},\n",
    "    ]\n",
    "    for i in range(160_000, 190_000, step):\n",
    "        intervals.append({\n",
    "            't': i, 'size_usd': None\n",
    "        })\n",
    "    intervals += [\n",
    "        {'t': 200_000, 'size_usd': 2_000_000},\n",
    "        {'t': 210_000, 'size_usd': None},\n",
    "    ]\n",
    "\n",
    "    # Initial market conditions. We start with a perfectly balanced skew with 2M in both directions.\n",
    "    market = Market(\n",
    "        positions=[],\n",
    "        last_modified_at=0,\n",
    "        price=price,\n",
    "        skew_scale_usd=FUNDING_VELOCITY_SCALE,\n",
    "        max_funding_pct=MAX_FUNDING_VELOCITY,\n",
    "    )\n",
    "\n",
    "    market.modify_position(0, -2_000_000)\n",
    "    market.modify_position(0, 2_000_000)\n",
    "\n",
    "    events = [\n",
    "        [0, 0, 0, 0, market.funding_rate_velocity(), 0]\n",
    "    ]\n",
    "    return sim(market, intervals, events)\n",
    "\n",
    "sim_01a_res = simulation_01a()\n",
    "ppint_sim_events(sim_01a_res)"
   ]
  },
  {
   "cell_type": "markdown",
   "metadata": {},
   "source": [
    "We see that at 150k, with a -2M skew, funding rate slowly moves in the negative direction at a constant velocity (as this is proportional to the skew and the skew never changes). Once the skew is balanced, velocity drops to 0 and funding rates stops moving. We can visualise the rate of change at a smaller scale:"
   ]
  },
  {
   "cell_type": "code",
   "execution_count": 47,
   "metadata": {},
   "outputs": [
    {
     "data": {
      "image/png": "[encoded data removed]",
      "text/plain": [
       "<Figure size 640x480 with 1 Axes>"
      ]
     },
     "metadata": {},
     "output_type": "display_data"
    }
   ],
   "source": [
    "import matplotlib.pyplot as plt\n",
    "\n",
    "sim_01a_res = simulation_01a(step=1000)\n",
    "\n",
    "plt.plot([x[0] for x in sim_01a_res], [y[3] for y in sim_01a_res])\n",
    "plt.show()"
   ]
  }
 ],
 "metadata": {
  "kernelspec": {
   "display_name": "Python 3.9.7 64-bit",
   "language": "python",
   "name": "python3"
  },
  "language_info": {
   "codemirror_mode": {
    "name": "ipython",
    "version": 3
   },
   "file_extension": ".py",
   "mimetype": "text/x-python",
   "name": "python",
   "nbconvert_exporter": "python",
   "pygments_lexer": "ipython3",
   "version": "3.9.7"
  },
  "orig_nbformat": 4,
  "vscode": {
   "interpreter": {
    "hash": "aee8b7b246df8f9039afb4144a1f6fd8d2ca17a180786b69acc140d282b71a49"
   }
  }
 },
 "nbformat": 4,
 "nbformat_minor": 2
}
